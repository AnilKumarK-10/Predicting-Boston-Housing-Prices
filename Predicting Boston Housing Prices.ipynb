{
 "cells": [
  {
   "cell_type": "markdown",
   "metadata": {},
   "source": [
    "                                   Predicting Boston Housing Prices"
   ]
  },
  {
   "cell_type": "markdown",
   "metadata": {},
   "source": [
    "## Import required packages."
   ]
  },
  {
   "cell_type": "code",
   "execution_count": 1,
   "metadata": {},
   "outputs": [],
   "source": [
    "from pathlib import Path\n",
    "\n",
    "import pandas as pd\n",
    "import numpy as np\n",
    "\n",
    "from sklearn.model_selection import train_test_split\n",
    "from sklearn.linear_model import LinearRegression\n",
    "from sklearn.metrics import r2_score\n",
    "\n",
    "from dmba import regressionSummary, exhaustive_search, forward_selection, backward_elimination\n",
    "from dmba import adjusted_r2_score, AIC_score, BIC_score\n",
    "\n",
    "import matplotlib.pylab as plt\n",
    "%matplotlib inline"
   ]
  },
  {
   "cell_type": "markdown",
   "metadata": {},
   "source": [
    "## Upload data set for analysis. Explore, clean, and pre-process data. "
   ]
  },
  {
   "cell_type": "code",
   "execution_count": 2,
   "metadata": {
    "scrolled": false
   },
   "outputs": [
    {
     "name": "stdout",
     "output_type": "stream",
     "text": [
      "BostonHousing Dimensions: (506, 14)\n"
     ]
    }
   ],
   "source": [
    "# Create data frame from the original data set.  \n",
    "boston_df = pd.read_csv('BostonHousing.csv')\n",
    "\n",
    "# Determine dimensions of dataframe. \n",
    "print('BostonHousing Dimensions:', boston_df.shape)\n"
   ]
  },
  {
   "cell_type": "code",
   "execution_count": 3,
   "metadata": {},
   "outputs": [
    {
     "name": "stdout",
     "output_type": "stream",
     "text": [
      "Original Column Titles\n"
     ]
    },
    {
     "data": {
      "text/plain": [
       "Index(['CRIME', 'ZONE', 'INDUST', 'CHAR RIV', 'NIT OXIDE', 'ROOMS', 'AGE',\n",
       "       'DISTANCE', 'RADIAL', 'TAX', 'ST RATIO', 'LOW STAT', 'MVALUE',\n",
       "       'C MVALUE'],\n",
       "      dtype='object')"
      ]
     },
     "execution_count": 3,
     "metadata": {},
     "output_type": "execute_result"
    }
   ],
   "source": [
    "# Display the column names.\n",
    "print('Original Column Titles')\n",
    "boston_df.columns"
   ]
  },
  {
   "cell_type": "code",
   "execution_count": 4,
   "metadata": {},
   "outputs": [
    {
     "name": "stdout",
     "output_type": "stream",
     "text": [
      "Converted One-Word Titles\n"
     ]
    },
    {
     "data": {
      "text/plain": [
       "Index(['CRIME', 'ZONE', 'INDUST', 'CHAR_RIV', 'NIT_OXIDE', 'ROOMS', 'AGE',\n",
       "       'DISTANCE', 'RADIAL', 'TAX', 'ST_RATIO', 'LOW_STAT', 'MVALUE',\n",
       "       'C_MVALUE'],\n",
       "      dtype='object')"
      ]
     },
     "execution_count": 4,
     "metadata": {},
     "output_type": "execute_result"
    }
   ],
   "source": [
    "# Make column titles (variable names) as one word and \n",
    "# without blank. \n",
    "boston_df.columns = [s.strip().replace(' ', '_') for s in boston_df.columns]\n",
    "print('Converted One-Word Titles')\n",
    "boston_df.columns"
   ]
  },
  {
   "cell_type": "code",
   "execution_count": 5,
   "metadata": {
    "scrolled": false
   },
   "outputs": [
    {
     "data": {
      "text/plain": [
       "CRIME        float64\n",
       "ZONE         float64\n",
       "INDUST       float64\n",
       "CHAR_RIV      object\n",
       "NIT_OXIDE    float64\n",
       "ROOMS        float64\n",
       "AGE          float64\n",
       "DISTANCE     float64\n",
       "RADIAL         int64\n",
       "TAX            int64\n",
       "ST_RATIO     float64\n",
       "LOW_STAT     float64\n",
       "MVALUE       float64\n",
       "C_MVALUE      object\n",
       "dtype: object"
      ]
     },
     "execution_count": 5,
     "metadata": {},
     "output_type": "execute_result"
    }
   ],
   "source": [
    "# Display column data types in the data frame for regression analysis.\n",
    "boston_df.dtypes"
   ]
  },
  {
   "cell_type": "code",
   "execution_count": 6,
   "metadata": {},
   "outputs": [
    {
     "data": {
      "text/plain": [
       "CRIME           float64\n",
       "ZONE            float64\n",
       "INDUST          float64\n",
       "NIT_OXIDE       float64\n",
       "ROOMS           float64\n",
       "AGE             float64\n",
       "DISTANCE        float64\n",
       "RADIAL            int64\n",
       "TAX               int64\n",
       "ST_RATIO        float64\n",
       "LOW_STAT        float64\n",
       "MVALUE          float64\n",
       "CHAR_RIV_Y        uint8\n",
       "C_MVALUE_Yes      uint8\n",
       "dtype: object"
      ]
     },
     "execution_count": 6,
     "metadata": {},
     "output_type": "execute_result"
    }
   ],
   "source": [
    "# Convert object variables  into dummy variables.\n",
    "# Use drop_first=True to drop the first dummy variable.\n",
    "boston_df = pd.get_dummies(boston_df, prefix_sep='_', \n",
    "                            drop_first=True)\n",
    "# Disply updated data types.  \n",
    "boston_df.dtypes"
   ]
  },
  {
   "cell_type": "code",
   "execution_count": 7,
   "metadata": {
    "scrolled": true
   },
   "outputs": [
    {
     "data": {
      "text/html": [
       "<div>\n",
       "<style scoped>\n",
       "    .dataframe tbody tr th:only-of-type {\n",
       "        vertical-align: middle;\n",
       "    }\n",
       "\n",
       "    .dataframe tbody tr th {\n",
       "        vertical-align: top;\n",
       "    }\n",
       "\n",
       "    .dataframe thead th {\n",
       "        text-align: right;\n",
       "    }\n",
       "</style>\n",
       "<table border=\"1\" class=\"dataframe\">\n",
       "  <thead>\n",
       "    <tr style=\"text-align: right;\">\n",
       "      <th></th>\n",
       "      <th>CRIME</th>\n",
       "      <th>ZONE</th>\n",
       "      <th>INDUST</th>\n",
       "      <th>NIT_OXIDE</th>\n",
       "      <th>ROOMS</th>\n",
       "      <th>AGE</th>\n",
       "      <th>DISTANCE</th>\n",
       "      <th>RADIAL</th>\n",
       "      <th>TAX</th>\n",
       "      <th>ST_RATIO</th>\n",
       "      <th>LOW_STAT</th>\n",
       "      <th>MVALUE</th>\n",
       "      <th>CHAR_RIV_Y</th>\n",
       "      <th>C_MVALUE_Yes</th>\n",
       "    </tr>\n",
       "  </thead>\n",
       "  <tbody>\n",
       "    <tr>\n",
       "      <th>count</th>\n",
       "      <td>506.00</td>\n",
       "      <td>506.00</td>\n",
       "      <td>506.00</td>\n",
       "      <td>506.00</td>\n",
       "      <td>506.00</td>\n",
       "      <td>506.00</td>\n",
       "      <td>506.00</td>\n",
       "      <td>506.00</td>\n",
       "      <td>506.00</td>\n",
       "      <td>506.00</td>\n",
       "      <td>506.00</td>\n",
       "      <td>506.00</td>\n",
       "      <td>506.00</td>\n",
       "      <td>506.00</td>\n",
       "    </tr>\n",
       "    <tr>\n",
       "      <th>mean</th>\n",
       "      <td>3.61</td>\n",
       "      <td>11.36</td>\n",
       "      <td>11.14</td>\n",
       "      <td>0.55</td>\n",
       "      <td>6.28</td>\n",
       "      <td>68.57</td>\n",
       "      <td>3.80</td>\n",
       "      <td>9.55</td>\n",
       "      <td>408.24</td>\n",
       "      <td>18.46</td>\n",
       "      <td>12.65</td>\n",
       "      <td>22.53</td>\n",
       "      <td>0.07</td>\n",
       "      <td>0.17</td>\n",
       "    </tr>\n",
       "    <tr>\n",
       "      <th>std</th>\n",
       "      <td>8.60</td>\n",
       "      <td>23.32</td>\n",
       "      <td>6.86</td>\n",
       "      <td>0.12</td>\n",
       "      <td>0.70</td>\n",
       "      <td>28.15</td>\n",
       "      <td>2.11</td>\n",
       "      <td>8.71</td>\n",
       "      <td>168.54</td>\n",
       "      <td>2.16</td>\n",
       "      <td>7.14</td>\n",
       "      <td>9.20</td>\n",
       "      <td>0.25</td>\n",
       "      <td>0.37</td>\n",
       "    </tr>\n",
       "    <tr>\n",
       "      <th>min</th>\n",
       "      <td>0.01</td>\n",
       "      <td>0.00</td>\n",
       "      <td>0.46</td>\n",
       "      <td>0.38</td>\n",
       "      <td>3.56</td>\n",
       "      <td>2.90</td>\n",
       "      <td>1.13</td>\n",
       "      <td>1.00</td>\n",
       "      <td>187.00</td>\n",
       "      <td>12.60</td>\n",
       "      <td>1.73</td>\n",
       "      <td>5.00</td>\n",
       "      <td>0.00</td>\n",
       "      <td>0.00</td>\n",
       "    </tr>\n",
       "    <tr>\n",
       "      <th>25%</th>\n",
       "      <td>0.08</td>\n",
       "      <td>0.00</td>\n",
       "      <td>5.19</td>\n",
       "      <td>0.45</td>\n",
       "      <td>5.89</td>\n",
       "      <td>45.02</td>\n",
       "      <td>2.10</td>\n",
       "      <td>4.00</td>\n",
       "      <td>279.00</td>\n",
       "      <td>17.40</td>\n",
       "      <td>6.95</td>\n",
       "      <td>17.02</td>\n",
       "      <td>0.00</td>\n",
       "      <td>0.00</td>\n",
       "    </tr>\n",
       "    <tr>\n",
       "      <th>50%</th>\n",
       "      <td>0.26</td>\n",
       "      <td>0.00</td>\n",
       "      <td>9.69</td>\n",
       "      <td>0.54</td>\n",
       "      <td>6.21</td>\n",
       "      <td>77.50</td>\n",
       "      <td>3.21</td>\n",
       "      <td>5.00</td>\n",
       "      <td>330.00</td>\n",
       "      <td>19.05</td>\n",
       "      <td>11.36</td>\n",
       "      <td>21.20</td>\n",
       "      <td>0.00</td>\n",
       "      <td>0.00</td>\n",
       "    </tr>\n",
       "    <tr>\n",
       "      <th>75%</th>\n",
       "      <td>3.68</td>\n",
       "      <td>12.50</td>\n",
       "      <td>18.10</td>\n",
       "      <td>0.62</td>\n",
       "      <td>6.62</td>\n",
       "      <td>94.07</td>\n",
       "      <td>5.19</td>\n",
       "      <td>24.00</td>\n",
       "      <td>666.00</td>\n",
       "      <td>20.20</td>\n",
       "      <td>16.96</td>\n",
       "      <td>25.00</td>\n",
       "      <td>0.00</td>\n",
       "      <td>0.00</td>\n",
       "    </tr>\n",
       "    <tr>\n",
       "      <th>max</th>\n",
       "      <td>88.98</td>\n",
       "      <td>100.00</td>\n",
       "      <td>27.74</td>\n",
       "      <td>0.87</td>\n",
       "      <td>8.78</td>\n",
       "      <td>100.00</td>\n",
       "      <td>12.13</td>\n",
       "      <td>24.00</td>\n",
       "      <td>711.00</td>\n",
       "      <td>22.00</td>\n",
       "      <td>37.97</td>\n",
       "      <td>50.00</td>\n",
       "      <td>1.00</td>\n",
       "      <td>1.00</td>\n",
       "    </tr>\n",
       "  </tbody>\n",
       "</table>\n",
       "</div>"
      ],
      "text/plain": [
       "        CRIME    ZONE  INDUST  NIT_OXIDE   ROOMS     AGE  DISTANCE  RADIAL  \\\n",
       "count  506.00  506.00  506.00     506.00  506.00  506.00    506.00  506.00   \n",
       "mean     3.61   11.36   11.14       0.55    6.28   68.57      3.80    9.55   \n",
       "std      8.60   23.32    6.86       0.12    0.70   28.15      2.11    8.71   \n",
       "min      0.01    0.00    0.46       0.38    3.56    2.90      1.13    1.00   \n",
       "25%      0.08    0.00    5.19       0.45    5.89   45.02      2.10    4.00   \n",
       "50%      0.26    0.00    9.69       0.54    6.21   77.50      3.21    5.00   \n",
       "75%      3.68   12.50   18.10       0.62    6.62   94.07      5.19   24.00   \n",
       "max     88.98  100.00   27.74       0.87    8.78  100.00     12.13   24.00   \n",
       "\n",
       "          TAX  ST_RATIO  LOW_STAT  MVALUE  CHAR_RIV_Y  C_MVALUE_Yes  \n",
       "count  506.00    506.00    506.00  506.00      506.00        506.00  \n",
       "mean   408.24     18.46     12.65   22.53        0.07          0.17  \n",
       "std    168.54      2.16      7.14    9.20        0.25          0.37  \n",
       "min    187.00     12.60      1.73    5.00        0.00          0.00  \n",
       "25%    279.00     17.40      6.95   17.02        0.00          0.00  \n",
       "50%    330.00     19.05     11.36   21.20        0.00          0.00  \n",
       "75%    666.00     20.20     16.96   25.00        0.00          0.00  \n",
       "max    711.00     22.00     37.97   50.00        1.00          1.00  "
      ]
     },
     "execution_count": 7,
     "metadata": {},
     "output_type": "execute_result"
    }
   ],
   "source": [
    "np.round(boston_df.describe(), decimals=2)"
   ]
  },
  {
   "cell_type": "markdown",
   "metadata": {},
   "source": [
    "## Develop multiple linear regression model and make predictions. "
   ]
  },
  {
   "cell_type": "code",
   "execution_count": 8,
   "metadata": {},
   "outputs": [
    {
     "name": "stdout",
     "output_type": "stream",
     "text": [
      "Regression Model for Boston Housing Training Set\n",
      "\n",
      "Intercept  48.62\n",
      "       Predictor  Coefficient\n",
      "0          CRIME        -0.15\n",
      "1           ZONE        -0.01\n",
      "2         INDUST         0.13\n",
      "3      NIT_OXIDE       -17.86\n",
      "4          ROOMS         0.33\n",
      "5            AGE        -0.01\n",
      "6       DISTANCE        -0.66\n",
      "7         RADIAL         0.22\n",
      "8            TAX        -0.01\n",
      "9       ST_RATIO        -0.63\n",
      "10      LOW_STAT        -0.47\n",
      "11    CHAR_RIV_Y         2.33\n",
      "12  C_MVALUE_Yes        12.13\n"
     ]
    }
   ],
   "source": [
    "# Develop outcome. \n",
    "outcome = 'MVALUE'\n",
    "\n",
    "# Develop predictor variables. \n",
    "predictors = [s for s in boston_df.columns if s not in outcome]\n",
    "\n",
    "# Identify X and y variables for regression and partition data\n",
    "# using 70% of records for training and 30% for validation \n",
    "# (test_size=0.3). \n",
    "X = boston_df[predictors]\n",
    "y = boston_df[outcome]\n",
    "train_X, valid_X, train_y, valid_y = train_test_split(X, y, \n",
    "                            test_size=0.3, random_state=1)\n",
    "\n",
    "# Create multiple linear regression model using X and y\n",
    "# and LinearRegression() function from sklearn (skikit-learn) \n",
    "# library.\n",
    "boston_lm = LinearRegression()\n",
    "boston_lm.fit(train_X, train_y)\n",
    "\n",
    "# Display intercept and regression coefficients. Round\n",
    "# them to 2 decimals.\n",
    "print('Regression Model for Boston Housing Training Set')\n",
    "print()\n",
    "print('Intercept ', np.round(boston_lm.intercept_, decimals=2))\n",
    "print(pd.DataFrame({'Predictor': X.columns, 'Coefficient': np.round(boston_lm.coef_, decimals=2)}))\n"
   ]
  },
  {
   "cell_type": "markdown",
   "metadata": {},
   "source": [
    "## Identify and compare performance measures for training and validation set."
   ]
  },
  {
   "cell_type": "code",
   "execution_count": 9,
   "metadata": {},
   "outputs": [
    {
     "name": "stdout",
     "output_type": "stream",
     "text": [
      "Prediction Performance Measures for Training Set\n",
      "r2 :  0.83\n",
      "Adjusted r2 :  0.824\n",
      "\n",
      "Prediction Performance Measures for Validation Set\n",
      "r2 :  0.852\n",
      "adjusted r2 :  0.838\n"
     ]
    }
   ],
   "source": [
    "# Use predict() function to make predictions for\n",
    "# training set.\n",
    "pred_y = boston_lm.predict(train_X)\n",
    "\n",
    "# Create prediction performance measures for training set.\n",
    "r2 = round(r2_score(train_y, pred_y),3)\n",
    "adj_r2 = round(adjusted_r2_score(train_y, pred_y, boston_lm),3)\n",
    "\n",
    "# Display prediction performance measures for training set.\n",
    "print('Prediction Performance Measures for Training Set')\n",
    "print('r2 : ', r2)\n",
    "print('Adjusted r2 : ', adj_r2)\n",
    "\n",
    "\n",
    "# Use predict() to score (make) predictions for validation set.\n",
    "boston_lm_pred = boston_lm.predict(valid_X)\n",
    "\n",
    "# Create prediction performance measures for validation set.\n",
    "r2 = round(r2_score(valid_y, boston_lm_pred),3)\n",
    "adj_r2 = round(adjusted_r2_score(valid_y, boston_lm_pred, boston_lm),3)\n",
    "\n",
    "# Display prediction performance measures for validation set.\n",
    "print() \n",
    "print('Prediction Performance Measures for Validation Set')\n",
    "print('r2 : ', r2)\n",
    "print('adjusted r2 : ', adj_r2)"
   ]
  },
  {
   "cell_type": "code",
   "execution_count": 10,
   "metadata": {
    "scrolled": false
   },
   "outputs": [
    {
     "name": "stdout",
     "output_type": "stream",
     "text": [
      "Accuracy Measures for Training Set - All Variables\n",
      "\n",
      "Regression statistics\n",
      "\n",
      "                      Mean Error (ME) : 0.0000\n",
      "       Root Mean Squared Error (RMSE) : 3.7145\n",
      "            Mean Absolute Error (MAE) : 2.6931\n",
      "          Mean Percentage Error (MPE) : -2.7567\n",
      "Mean Absolute Percentage Error (MAPE) : 13.2197\n",
      "\n",
      "Accuracy Measures for Validation Set - All Variables\n",
      "\n",
      "Regression statistics\n",
      "\n",
      "                      Mean Error (ME) : 0.3667\n",
      "       Root Mean Squared Error (RMSE) : 3.6868\n",
      "            Mean Absolute Error (MAE) : 2.7428\n",
      "          Mean Percentage Error (MPE) : -2.9628\n",
      "Mean Absolute Percentage Error (MAPE) : 13.9356\n"
     ]
    }
   ],
   "source": [
    "# Display common accuracy measures for training set.\n",
    "print('Accuracy Measures for Training Set - All Variables')\n",
    "regressionSummary(train_y, pred_y)\n",
    "print()\n",
    "\n",
    "# Display common accuracy measures for validation set.\n",
    "print('Accuracy Measures for Validation Set - All Variables')\n",
    "regressionSummary(valid_y, boston_lm_pred)"
   ]
  },
  {
   "cell_type": "markdown",
   "metadata": {},
   "source": [
    "## Exhaustive Search algorithm."
   ]
  },
  {
   "cell_type": "code",
   "execution_count": 14,
   "metadata": {
    "scrolled": false
   },
   "outputs": [
    {
     "name": "stdout",
     "output_type": "stream",
     "text": [
      "     n     r2adj          AIC    AGE  CHAR_RIV_Y  CRIME  C_MVALUE_Yes  DISTANCE  INDUST  LOW_STAT  \\\n",
      "0    1  0.615757  2227.470343  False       False  False          True     False   False     False   \n",
      "1    2  0.784502  2023.736517  False       False  False          True     False   False      True   \n",
      "2    3  0.793737  2009.222342  False       False   True          True     False   False      True   \n",
      "3    4  0.800829  1997.822810  False        True   True          True     False   False      True   \n",
      "4    5  0.804618  1992.008003  False       False  False          True      True   False      True   \n",
      "5    6  0.811403  1980.477479  False        True  False          True      True   False      True   \n",
      "6    7  0.816868  1971.047129  False        True   True          True      True   False      True   \n",
      "7    8  0.822139  1961.682655  False        True   True          True      True   False      True   \n",
      "8    9  0.822845  1961.248007  False        True   True          True      True    True      True   \n",
      "9   10  0.824545  1958.803262  False        True   True          True      True    True      True   \n",
      "10  11  0.824282  1960.300013  False        True   True          True      True    True      True   \n",
      "11  12  0.823903  1962.027384  False        True   True          True      True    True      True   \n",
      "12  13  0.823556  1963.683649   True        True   True          True      True    True      True   \n",
      "\n",
      "    NIT_OXIDE  RADIAL  ROOMS  ST_RATIO    TAX   ZONE  \n",
      "0       False   False  False     False  False  False  \n",
      "1       False   False  False     False  False  False  \n",
      "2       False   False  False     False  False  False  \n",
      "3       False   False  False     False  False  False  \n",
      "4        True   False  False      True  False  False  \n",
      "5        True   False  False      True  False  False  \n",
      "6        True   False  False      True  False  False  \n",
      "7        True    True  False      True  False  False  \n",
      "8        True    True  False      True  False  False  \n",
      "9        True    True  False      True   True  False  \n",
      "10       True    True   True      True   True  False  \n",
      "11       True    True   True      True   True   True  \n",
      "12       True    True   True      True   True   True  \n"
     ]
    }
   ],
   "source": [
    "# Define train_model() function used in Executive Search\n",
    "# algorithm with executive_search() function. \n",
    "def train_model(variables):\n",
    "    model = LinearRegression()\n",
    "    model.fit(train_X[variables], train_y)\n",
    "    return model\n",
    "\n",
    "# Define score_model() function used in Executive Search\n",
    "# algorithm with executive_search() function. \n",
    "def score_model(model, variables):\n",
    "    pred_y = model.predict(train_X[variables])\n",
    "    # Apply negative sign as score is optimized to be \n",
    "    # as low as possible in exhaustive_search() function.\n",
    "    return -adjusted_r2_score(train_y, pred_y, model)\n",
    "\n",
    "# Create allVariables object with predcitors in train_X,\n",
    "# i.e., training data set, with 13 predictor columns and \n",
    "# 304 records.\n",
    "allVariables = train_X.columns\n",
    "\n",
    "# The exhaustive_search() function consists of 3 arguments:\n",
    "# - allVariables - list of all variables in training data set,\n",
    "# - train_model() function that creates a model for a specific \n",
    "#    combination of variables,\n",
    "# - score_model() function that score the model performance using\n",
    "#     adjusted_r2.\n",
    "results = exhaustive_search(allVariables, train_model, score_model)\n",
    "\n",
    "# Create data[] loop process to identify the best model for each\n",
    "# combination of 1, 2, 3, ..., 13 variables. \n",
    "data = []\n",
    "for result in results:\n",
    "    model = result['model']\n",
    "    variables = result['variables']\n",
    "    AIC = AIC_score(train_y, model.predict(train_X[variables]), model)\n",
    "    \n",
    "    d = {'n': result['n'], 'r2adj': -result['score'], 'AIC': AIC}\n",
    "    d.update({var: var in result['variables'] for var in allVariables})\n",
    "    data.append(d)\n",
    "\n",
    "# Define the width of output presentation to be wider to\n",
    "# to display results in two rows (instead of more rows\n",
    "# otherwise). \n",
    "pd.set_option('display.width', 100)\n",
    "\n",
    "# Display the exhaustive search results.\n",
    "print(pd.DataFrame(data, columns=('n', 'r2adj', 'AIC') + tuple(sorted(allVariables))))\n",
    "\n",
    "# Reset the output width to the default. \n",
    "pd.reset_option('display.width')"
   ]
  },
  {
   "cell_type": "code",
   "execution_count": 17,
   "metadata": {},
   "outputs": [
    {
     "name": "stdout",
     "output_type": "stream",
     "text": [
      "Regression Model for Training Set Using Exhaustive Search\n",
      "\n",
      "Intercept  50.82\n",
      "      Predictor  Coefficient\n",
      "0    CHAR_RIV_Y         2.34\n",
      "1         CRIME        -0.15\n",
      "2  C_MVALUE_Yes        12.19\n",
      "3      DISTANCE        -0.69\n",
      "4        INDUST         0.13\n",
      "5      LOW_STAT        -0.49\n",
      "6     NIT_OXIDE       -18.39\n",
      "7        RADIAL         0.23\n",
      "8      ST_RATIO        -0.63\n",
      "9           TAX        -0.01\n"
     ]
    }
   ],
   "source": [
    "# Develop the multiple linear regression model based\n",
    "# on the Exhaustive Search results.\n",
    "\n",
    "# Identify predictors and outcome of the regression model.\n",
    "predictors_ex = ['CHAR_RIV_Y', 'CRIME', 'C_MVALUE_Yes',\n",
    "                 'DISTANCE', 'INDUST', 'LOW_STAT', 'NIT_OXIDE', \n",
    "                 'RADIAL', 'ST_RATIO',  'TAX']\n",
    "outcome = 'MVALUE'\n",
    "\n",
    "# Identify X and y variables for regression and partition data\n",
    "# using 70% of records for training and 30% for validation \n",
    "# (test_size=0.3). \n",
    "X = boston_df[predictors_ex]\n",
    "y = boston_df[outcome]\n",
    "train_X_ex, valid_X_ex, train_y_ex, valid_y_ex = \\\n",
    "          train_test_split(X, y, test_size=0.3, random_state=1)\n",
    "\n",
    "# Create multiple linear regression model using X and y.\n",
    "boston_ex = LinearRegression()\n",
    "boston_ex.fit(train_X_ex, train_y_ex)\n",
    "\n",
    "# Display intercept and regression coefficients. Round them\n",
    "# to 2 decimals.\n",
    "print('Regression Model for Training Set Using Exhaustive Search')\n",
    "print()\n",
    "print('Intercept ', round(boston_ex.intercept_, 2))\n",
    "print(pd.DataFrame({'Predictor': X.columns,\n",
    "            'Coefficient': np.round(boston_ex.coef_, decimals=2)}))\n"
   ]
  },
  {
   "cell_type": "code",
   "execution_count": 18,
   "metadata": {},
   "outputs": [
    {
     "name": "stdout",
     "output_type": "stream",
     "text": [
      "\n",
      "Accuracy Measures for Validation Set Using Exhaustive Search\n",
      "\n",
      "Regression statistics\n",
      "\n",
      "                      Mean Error (ME) : 0.3854\n",
      "       Root Mean Squared Error (RMSE) : 3.7318\n",
      "            Mean Absolute Error (MAE) : 2.7591\n",
      "          Mean Percentage Error (MPE) : -2.8698\n",
      "Mean Absolute Percentage Error (MAPE) : 13.9371\n"
     ]
    }
   ],
   "source": [
    "# Use predict() function to score (make) predictions \n",
    "# for validation set and measure their accuracy using\n",
    "# Exhaustive Search algorithm.\n",
    "boston_ex_pred = boston_ex.predict(valid_X_ex)\n",
    "\n",
    "# Display common accuracy measures for validation set.\n",
    "print()\n",
    "print('Accuracy Measures for Validation Set Using Exhaustive Search')\n",
    "regressionSummary(valid_y_ex, boston_ex_pred)"
   ]
  },
  {
   "cell_type": "markdown",
   "metadata": {},
   "source": [
    "##  Backward Elimination algorithm."
   ]
  },
  {
   "cell_type": "code",
   "execution_count": 31,
   "metadata": {},
   "outputs": [
    {
     "name": "stdout",
     "output_type": "stream",
     "text": [
      "Variables: CRIME, ZONE, INDUST, NIT_OXIDE, ROOMS, AGE, DISTANCE, RADIAL, TAX, ST_RATIO, LOW_STAT, CHAR_RIV_Y, C_MVALUE_Yes\n",
      "Start: score=1963.68\n",
      "Step: score=1962.03, remove AGE\n",
      "Step: score=1960.30, remove ZONE\n",
      "Step: score=1958.80, remove ROOMS\n",
      "Step: score=1958.80, remove None\n",
      "\n",
      "Best Variables from Backward Elimination Algorithm\n",
      "['CRIME', 'INDUST', 'NIT_OXIDE', 'DISTANCE', 'RADIAL', 'TAX', 'ST_RATIO', 'LOW_STAT', 'CHAR_RIV_Y', 'C_MVALUE_Yes']\n"
     ]
    }
   ],
   "source": [
    "# Define train_model() function used in Backward Elimination\n",
    "# algorithm with backward_elimination() function. \n",
    "def train_model(variables):\n",
    "    model = LinearRegression()\n",
    "    model.fit(train_X[variables], train_y)\n",
    "    return model\n",
    "\n",
    "# Define score_model() function used in Backward Elimination\n",
    "# algorithm with backward_elimination() function. \n",
    "def score_model(model, variables):\n",
    "    return AIC_score(train_y, model.predict(train_X[variables]), model)\n",
    "\n",
    "# Use backward_elimination() function to identify the\n",
    "# best_model and best_variables. \n",
    "best_model_be, best_variables_be = backward_elimination(train_X.columns, \n",
    "                        train_model, score_model, verbose=True)\n",
    "\n",
    "# Display best variables based on Backward Elimination algorithm. \n",
    "print()\n",
    "print('Best Variables from Backward Elimination Algorithm')\n",
    "print(best_variables_be)"
   ]
  },
  {
   "cell_type": "code",
   "execution_count": 32,
   "metadata": {},
   "outputs": [
    {
     "name": "stdout",
     "output_type": "stream",
     "text": [
      "Regression Model for Training Set Using Backward Elimination\n",
      "\n",
      "Intercept  50.82\n",
      "      Predictor  Coefficient\n",
      "0         CRIME        -0.15\n",
      "1        INDUST         0.13\n",
      "2     NIT_OXIDE       -18.39\n",
      "3      DISTANCE        -0.69\n",
      "4        RADIAL         0.23\n",
      "5           TAX        -0.01\n",
      "6      ST_RATIO        -0.63\n",
      "7      LOW_STAT        -0.49\n",
      "8    CHAR_RIV_Y         2.34\n",
      "9  C_MVALUE_Yes        12.19\n"
     ]
    }
   ],
   "source": [
    "# Develop the multiple linear regression model based\n",
    "# on the Backward Elimination results.\n",
    "\n",
    "# Identify predictors and outcome of the regression model.\n",
    "predictors_be = ['CRIME', 'INDUST', 'NIT_OXIDE', 'DISTANCE', 'RADIAL',\n",
    "          'TAX', 'ST_RATIO', 'LOW_STAT', 'CHAR_RIV_Y', 'C_MVALUE_Yes']\n",
    "               \n",
    "outcome = 'MVALUE'\n",
    "\n",
    "# Identify X and y variables for regression and partition data\n",
    "# using 70% of records for training and 30% for validation \n",
    "# (test_size=0.3). \n",
    "X = boston_df[predictors_be]\n",
    "y = boston_df[outcome]\n",
    "train_X_be, valid_X_be, train_y_be, valid_y_be = \\\n",
    "          train_test_split(X, y, test_size=0.3, random_state=1)\n",
    "\n",
    "# Create multiple linear regression model using X and y.\n",
    "boston_be = LinearRegression()\n",
    "boston_be.fit(train_X_be, train_y_be)\n",
    "\n",
    "# Display intercept and regression coefficients. Round them\n",
    "# to 2 decimals.\n",
    "print('Regression Model for Training Set Using Backward Elimination')\n",
    "print()\n",
    "print('Intercept ', round(boston_be.intercept_, 2))\n",
    "print(pd.DataFrame({'Predictor': X.columns,\n",
    "            'Coefficient': np.round(boston_be.coef_, decimals=2)}))\n"
   ]
  },
  {
   "cell_type": "code",
   "execution_count": 33,
   "metadata": {
    "scrolled": false
   },
   "outputs": [
    {
     "name": "stdout",
     "output_type": "stream",
     "text": [
      "\n",
      "Accuracy Measures for Validation Set Using Forward Selection\n",
      "\n",
      "Regression statistics\n",
      "\n",
      "                      Mean Error (ME) : 0.3854\n",
      "       Root Mean Squared Error (RMSE) : 3.7318\n",
      "            Mean Absolute Error (MAE) : 2.7591\n",
      "          Mean Percentage Error (MPE) : -2.8698\n",
      "Mean Absolute Percentage Error (MAPE) : 13.9371\n"
     ]
    }
   ],
   "source": [
    "# Use predict() to score predictions for validation set.\n",
    "best_be_pred = boston_be.predict(valid_X_be)\n",
    "\n",
    "# Display common accuracy measures for validation set.\n",
    "print()\n",
    "print('Accuracy Measures for Validation Set Using Forward Selection')\n",
    "regressionSummary(valid_y_be, best_be_pred)"
   ]
  },
  {
   "cell_type": "code",
   "execution_count": null,
   "metadata": {},
   "outputs": [],
   "source": []
  }
 ],
 "metadata": {
  "kernelspec": {
   "display_name": "Python 3 (ipykernel)",
   "language": "python",
   "name": "python3"
  },
  "language_info": {
   "codemirror_mode": {
    "name": "ipython",
    "version": 3
   },
   "file_extension": ".py",
   "mimetype": "text/x-python",
   "name": "python",
   "nbconvert_exporter": "python",
   "pygments_lexer": "ipython3",
   "version": "3.11.4"
  }
 },
 "nbformat": 4,
 "nbformat_minor": 2
}
